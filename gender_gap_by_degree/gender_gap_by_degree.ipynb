{
 "cells": [
  {
   "cell_type": "markdown",
   "metadata": {},
   "source": [
    "# Analyzing Gender Gap in Different College Degrees through the Years\n",
    "\n",
    "In this project we'll work with formatting line plots to analyze how the gender gap between men and women evolve along the years.\n",
    "\n",
    "Currently havening an issue with plotting using jupyter.\n",
    "\n",
    "Also need to add comments."
   ]
  },
  {
   "cell_type": "code",
   "execution_count": 1,
   "metadata": {},
   "outputs": [],
   "source": [
    "import pandas as pd\n",
    "import matplotlib.pyplot as plt\n",
    "%matplotlib inline"
   ]
  },
  {
   "cell_type": "code",
   "execution_count": 2,
   "metadata": {
    "scrolled": true
   },
   "outputs": [
    {
     "data": {
      "text/plain": [
       "<Figure size 648x1296 with 0 Axes>"
      ]
     },
     "metadata": {},
     "output_type": "display_data"
    }
   ],
   "source": [
    "women_degrees = pd.read_csv('percent-bachelors-degrees-women-usa.csv')\n",
    "cb_dark_blue = (0/255,107/255,164/255)\n",
    "cb_orange = (255/255, 128/255, 14/255)\n",
    "cb_light_gray = (171/255, 171/255, 171/255)\n",
    "stem_cats = ['Psychology', 'Biology', 'Math and Statistics', 'Physical Sciences', 'Computer Science', 'Engineering']\n",
    "lib_arts_cats = ['Foreign Languages', 'English', 'Communications and Journalism', 'Art and Performance', 'Social Sciences and History']\n",
    "other_cats = ['Health Professions', 'Public Administration', 'Education', 'Agriculture','Business', 'Architecture']\n",
    "fig = plt.figure(figsize=(9, 18))"
   ]
  },
  {
   "cell_type": "code",
   "execution_count": 10,
   "metadata": {},
   "outputs": [
    {
     "data": {
      "image/png": "[encoded data removed]",
      "text/plain": [
       "<Figure size 432x288 with 1 Axes>"
      ]
     },
     "metadata": {
      "needs_background": "light"
     },
     "output_type": "display_data"
    }
   ],
   "source": [
    "ax = women_degrees.plot(x='Year', y='Psychology')\n",
    "ax.spines[\"right\"].set_visible(False)    \n",
    "ax.spines[\"left\"].set_visible(False)\n",
    "ax.spines[\"top\"].set_visible(False)    \n",
    "ax.spines[\"bottom\"].set_visible(False)\n"
   ]
  },
  {
   "cell_type": "code",
   "execution_count": 5,
   "metadata": {},
   "outputs": [
    {
     "name": "stderr",
     "output_type": "stream",
     "text": [
      "C:\\Users\\joaoa\\anaconda3\\lib\\site-packages\\ipykernel_launcher.py:1: MatplotlibDeprecationWarning: Adding an axes using the same arguments as a previous axes currently reuses the earlier instance.  In a future version, a new instance will always be created and returned.  Meanwhile, this warning can be suppressed, and the future behavior ensured, by passing a unique label to each axes instance.\n",
      "  \"\"\"Entry point for launching an IPython kernel.\n"
     ]
    }
   ],
   "source": [
    "ax = fig.add_subplot()\n",
    "ax.plot(women_degrees['Year'], women_degrees[stem_cats[0]], c=cb_dark_blue, label='Women', linewidth=3)\n",
    "ax.plot(women_degrees['Year'], 100-women_degrees[stem_cats[0]], c=cb_orange, label='Men', linewidth=3)\n",
    "ax.spines[\"right\"].set_visible(False)    \n",
    "ax.spines[\"left\"].set_visible(False)\n",
    "ax.spines[\"top\"].set_visible(False)    \n",
    "ax.spines[\"bottom\"].set_visible(False)\n",
    "plt.show()"
   ]
  },
  {
   "cell_type": "code",
   "execution_count": 4,
   "metadata": {},
   "outputs": [],
   "source": [
    "plt.show()"
   ]
  },
  {
   "cell_type": "code",
   "execution_count": null,
   "metadata": {},
   "outputs": [],
   "source": [
    "counter_stem = 1\n",
    "\n",
    "for sp in range(0,6):\n",
    "    ax = fig.add_subplot(6,3,counter_stem, label=str(sp))\n",
    "    ax.plot(women_degrees['Year'], women_degrees[stem_cats[sp]], c=cb_dark_blue, label='Women', linewidth=3)\n",
    "    ax.plot(women_degrees['Year'], 100-women_degrees[stem_cats[sp]], c=cb_orange, label='Men', linewidth=3)\n",
    "    ax.spines[\"right\"].set_visible(False)    \n",
    "    ax.spines[\"left\"].set_visible(False)\n",
    "    ax.spines[\"top\"].set_visible(False)    \n",
    "    ax.spines[\"bottom\"].set_visible(False)\n",
    "    ax.set_xlim(1968, 2011)\n",
    "    ax.set_ylim(0,100)\n",
    "    ax.set_yticks([0,100])\n",
    "    ax.set_title(stem_cats[sp])\n",
    "    ax.axhline(50, c=cb_light_gray, alpha=0.3)\n",
    "    ax.tick_params(bottom=\"off\", top=\"off\", left=\"off\", right=\"off\")\n",
    "    if sp != 5:\n",
    "        ax.tick_params(labelbottom='off')\n",
    "    counter_stem = counter_stem + 3\n",
    "    \n",
    "    if sp == 0:\n",
    "        ax.text(2005, 87, 'Men')\n",
    "        ax.text(2002, 8, 'Women')\n",
    "    elif sp == 5:\n",
    "        ax.text(2005, 87, 'Men')\n",
    "        ax.text(2001, 10, 'Women')\n"
   ]
  },
  {
   "cell_type": "code",
   "execution_count": null,
   "metadata": {},
   "outputs": [],
   "source": [
    "counter_lib = 2\n",
    "for sp in range(0,5):\n",
    "    ax = fig.add_subplot(6,3,counter_lib, label=str(sp*10))\n",
    "    ax.plot(women_degrees['Year'], women_degrees[lib_arts_cats[sp]], c=cb_dark_blue, label='Women', linewidth=3)\n",
    "    ax.plot(women_degrees['Year'], 100-women_degrees[lib_arts_cats[sp]], c=cb_orange, label='Men', linewidth=3)\n",
    "    ax.spines[\"right\"].set_visible(False)    \n",
    "    ax.spines[\"left\"].set_visible(False)\n",
    "    ax.spines[\"top\"].set_visible(False)    \n",
    "    ax.spines[\"bottom\"].set_visible(False)\n",
    "    ax.set_xlim(1968, 2011)\n",
    "    ax.set_ylim(0,100)\n",
    "    ax.set_yticks([0,100])\n",
    "    ax.set_title(lib_arts_cats[sp])\n",
    "    ax.axhline(50, c=cb_light_gray, alpha=0.3)\n",
    "    ax.tick_params(bottom=\"off\", top=\"off\", left=\"off\", right=\"off\")\n",
    "    if sp != 4:\n",
    "        ax.tick_params(labelbottom='off')\n",
    "    counter_lib = counter_lib + 3\n",
    "    \n",
    "    if sp == 0:\n",
    "        ax.text(2005, 78, 'Women')\n",
    "        ax.text(2002, 18, 'Men')"
   ]
  },
  {
   "cell_type": "code",
   "execution_count": null,
   "metadata": {},
   "outputs": [],
   "source": [
    "counter_other = 3\n",
    "for sp in range(0,6):\n",
    "    ax = fig.add_subplot(6,3,counter_other, label=str(sp*100))\n",
    "    ax.plot(women_degrees['Year'], women_degrees[other_cats[sp]], c=cb_dark_blue, label='Women', linewidth=3)\n",
    "    ax.plot(women_degrees['Year'], 100-women_degrees[other_cats[sp]], c=cb_orange, label='Men', linewidth=3)\n",
    "    ax.spines[\"right\"].set_visible(False)    \n",
    "    ax.spines[\"left\"].set_visible(False)\n",
    "    ax.spines[\"top\"].set_visible(False)    \n",
    "    ax.spines[\"bottom\"].set_visible(False)\n",
    "    ax.set_xlim(1968, 2011)\n",
    "    ax.set_ylim(0,100)\n",
    "    ax.set_yticks([0,100])\n",
    "    ax.set_title(other_cats[sp])\n",
    "    ax.axhline(50, c=cb_light_gray, alpha=0.3)\n",
    "    ax.tick_params(bottom=\"off\", top=\"off\", left=\"off\", right=\"off\")\n",
    "    if sp != 5:\n",
    "        ax.tick_params(labelbottom='off')\n",
    "    counter_other = counter_other + 3\n",
    "    \n",
    "    if sp == 0:\n",
    "        ax.text(2005, 89, 'Men')\n",
    "        ax.text(2002, 6, 'Women')\n",
    "    elif sp == 5:\n",
    "        ax.text(2005, 63, 'Men')\n",
    "        ax.text(2001, 34, 'Women')"
   ]
  },
  {
   "cell_type": "code",
   "execution_count": null,
   "metadata": {},
   "outputs": [],
   "source": [
    "plt.show()"
   ]
  }
 ],
 "metadata": {
  "kernelspec": {
   "display_name": "Python 3",
   "language": "python",
   "name": "python3"
  },
  "language_info": {
   "codemirror_mode": {
    "name": "ipython",
    "version": 3
   },
   "file_extension": ".py",
   "mimetype": "text/x-python",
   "name": "python",
   "nbconvert_exporter": "python",
   "pygments_lexer": "ipython3",
   "version": "3.7.6"
  }
 },
 "nbformat": 4,
 "nbformat_minor": 1
}
